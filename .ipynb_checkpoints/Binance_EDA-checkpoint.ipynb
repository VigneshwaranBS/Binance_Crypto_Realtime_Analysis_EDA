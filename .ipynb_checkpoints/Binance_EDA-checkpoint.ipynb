{
 "cells": [
  {
   "cell_type": "code",
   "execution_count": 1,
   "metadata": {},
   "outputs": [
    {
     "name": "stdout",
     "output_type": "stream",
     "text": [
      "Collecting python-binance\n",
      "  Downloading python_binance-1.0.17-py2.py3-none-any.whl (67 kB)\n",
      "     -------------------------------------- 67.6/67.6 kB 459.0 kB/s eta 0:00:00\n",
      "Requirement already satisfied: pandas in c:\\users\\vicky\\appdata\\local\\programs\\python\\python310\\lib\\site-packages (1.4.0)\n",
      "Collecting mplfinance\n",
      "  Downloading mplfinance-0.12.9b7-py3-none-any.whl (73 kB)\n",
      "     -------------------------------------- 73.1/73.1 kB 503.2 kB/s eta 0:00:00\n",
      "Collecting dateparser\n",
      "  Downloading dateparser-1.1.8-py2.py3-none-any.whl (293 kB)\n",
      "     ------------------------------------ 293.8/293.8 kB 465.6 kB/s eta 0:00:00\n",
      "Collecting pycryptodome\n",
      "  Downloading pycryptodome-3.17-cp35-abi3-win_amd64.whl (1.7 MB)\n",
      "     ---------------------------------------- 1.7/1.7 MB 644.9 kB/s eta 0:00:00\n",
      "Collecting ujson\n",
      "  Downloading ujson-5.7.0-cp310-cp310-win_amd64.whl (41 kB)\n",
      "     -------------------------------------- 41.3/41.3 kB 501.4 kB/s eta 0:00:00\n",
      "Collecting websockets\n",
      "  Downloading websockets-11.0.1-cp310-cp310-win_amd64.whl (124 kB)\n",
      "     ------------------------------------ 124.5/124.5 kB 664.3 kB/s eta 0:00:00\n",
      "Requirement already satisfied: requests in c:\\users\\vicky\\appdata\\local\\programs\\python\\python310\\lib\\site-packages (from python-binance) (2.28.2)\n",
      "Requirement already satisfied: six in c:\\users\\vicky\\appdata\\local\\programs\\python\\python310\\lib\\site-packages (from python-binance) (1.16.0)\n",
      "Requirement already satisfied: aiohttp in c:\\users\\vicky\\appdata\\local\\programs\\python\\python310\\lib\\site-packages (from python-binance) (3.8.3)\n",
      "Requirement already satisfied: python-dateutil>=2.8.1 in c:\\users\\vicky\\appdata\\local\\programs\\python\\python310\\lib\\site-packages (from pandas) (2.8.2)\n",
      "Requirement already satisfied: pytz>=2020.1 in c:\\users\\vicky\\appdata\\local\\programs\\python\\python310\\lib\\site-packages (from pandas) (2021.3)\n",
      "Requirement already satisfied: numpy>=1.21.0 in c:\\users\\vicky\\appdata\\local\\programs\\python\\python310\\lib\\site-packages (from pandas) (1.23.5)\n",
      "Requirement already satisfied: matplotlib in c:\\users\\vicky\\appdata\\local\\programs\\python\\python310\\lib\\site-packages (from mplfinance) (3.5.1)\n",
      "Requirement already satisfied: async-timeout<5.0,>=4.0.0a3 in c:\\users\\vicky\\appdata\\local\\programs\\python\\python310\\lib\\site-packages (from aiohttp->python-binance) (4.0.2)\n",
      "Requirement already satisfied: frozenlist>=1.1.1 in c:\\users\\vicky\\appdata\\local\\programs\\python\\python310\\lib\\site-packages (from aiohttp->python-binance) (1.3.3)\n",
      "Requirement already satisfied: multidict<7.0,>=4.5 in c:\\users\\vicky\\appdata\\local\\programs\\python\\python310\\lib\\site-packages (from aiohttp->python-binance) (6.0.4)\n",
      "Requirement already satisfied: attrs>=17.3.0 in c:\\users\\vicky\\appdata\\local\\programs\\python\\python310\\lib\\site-packages (from aiohttp->python-binance) (21.4.0)\n",
      "Requirement already satisfied: yarl<2.0,>=1.0 in c:\\users\\vicky\\appdata\\local\\programs\\python\\python310\\lib\\site-packages (from aiohttp->python-binance) (1.8.2)\n",
      "Requirement already satisfied: charset-normalizer<3.0,>=2.0 in c:\\users\\vicky\\appdata\\local\\programs\\python\\python310\\lib\\site-packages (from aiohttp->python-binance) (2.0.8)\n",
      "Requirement already satisfied: aiosignal>=1.1.2 in c:\\users\\vicky\\appdata\\local\\programs\\python\\python310\\lib\\site-packages (from aiohttp->python-binance) (1.3.1)\n",
      "Requirement already satisfied: tzlocal in c:\\users\\vicky\\appdata\\local\\programs\\python\\python310\\lib\\site-packages (from dateparser->python-binance) (4.2)\n",
      "Requirement already satisfied: regex!=2019.02.19,!=2021.8.27 in c:\\users\\vicky\\appdata\\local\\programs\\python\\python310\\lib\\site-packages (from dateparser->python-binance) (2022.10.31)\n",
      "Requirement already satisfied: cycler>=0.10 in c:\\users\\vicky\\appdata\\local\\programs\\python\\python310\\lib\\site-packages (from matplotlib->mplfinance) (0.11.0)\n",
      "Requirement already satisfied: pyparsing>=2.2.1 in c:\\users\\vicky\\appdata\\local\\programs\\python\\python310\\lib\\site-packages (from matplotlib->mplfinance) (3.0.6)\n",
      "Requirement already satisfied: pillow>=6.2.0 in c:\\users\\vicky\\appdata\\local\\programs\\python\\python310\\lib\\site-packages (from matplotlib->mplfinance) (9.0.0)\n",
      "Requirement already satisfied: kiwisolver>=1.0.1 in c:\\users\\vicky\\appdata\\local\\programs\\python\\python310\\lib\\site-packages (from matplotlib->mplfinance) (1.3.2)\n",
      "Requirement already satisfied: fonttools>=4.22.0 in c:\\users\\vicky\\appdata\\local\\programs\\python\\python310\\lib\\site-packages (from matplotlib->mplfinance) (4.29.1)\n",
      "Requirement already satisfied: packaging>=20.0 in c:\\users\\vicky\\appdata\\local\\programs\\python\\python310\\lib\\site-packages (from matplotlib->mplfinance) (21.3)\n",
      "Requirement already satisfied: urllib3<1.27,>=1.21.1 in c:\\users\\vicky\\appdata\\local\\programs\\python\\python310\\lib\\site-packages (from requests->python-binance) (1.26.7)\n",
      "Requirement already satisfied: certifi>=2017.4.17 in c:\\users\\vicky\\appdata\\local\\programs\\python\\python310\\lib\\site-packages (from requests->python-binance) (2021.10.8)\n",
      "Requirement already satisfied: idna<4,>=2.5 in c:\\users\\vicky\\appdata\\local\\programs\\python\\python310\\lib\\site-packages (from requests->python-binance) (2.10)\n",
      "Requirement already satisfied: tzdata in c:\\users\\vicky\\appdata\\local\\programs\\python\\python310\\lib\\site-packages (from tzlocal->dateparser->python-binance) (2022.1)\n",
      "Requirement already satisfied: pytz-deprecation-shim in c:\\users\\vicky\\appdata\\local\\programs\\python\\python310\\lib\\site-packages (from tzlocal->dateparser->python-binance) (0.1.0.post0)\n",
      "Installing collected packages: websockets, ujson, pycryptodome, mplfinance, dateparser, python-binance\n",
      "Successfully installed dateparser-1.1.8 mplfinance-0.12.9b7 pycryptodome-3.17 python-binance-1.0.17 ujson-5.7.0 websockets-11.0.1\n"
     ]
    },
    {
     "name": "stderr",
     "output_type": "stream",
     "text": [
      "WARNING: Ignoring invalid distribution -rotobuf (c:\\users\\vicky\\appdata\\local\\programs\\python\\python310\\lib\\site-packages)\n",
      "WARNING: Ignoring invalid distribution -rotobuf (c:\\users\\vicky\\appdata\\local\\programs\\python\\python310\\lib\\site-packages)\n",
      "WARNING: Ignoring invalid distribution -rotobuf (c:\\users\\vicky\\appdata\\local\\programs\\python\\python310\\lib\\site-packages)\n",
      "WARNING: Ignoring invalid distribution -rotobuf (c:\\users\\vicky\\appdata\\local\\programs\\python\\python310\\lib\\site-packages)\n",
      "WARNING: Ignoring invalid distribution -rotobuf (c:\\users\\vicky\\appdata\\local\\programs\\python\\python310\\lib\\site-packages)\n",
      "WARNING: Ignoring invalid distribution -rotobuf (c:\\users\\vicky\\appdata\\local\\programs\\python\\python310\\lib\\site-packages)\n",
      "WARNING: Ignoring invalid distribution -rotobuf (c:\\users\\vicky\\appdata\\local\\programs\\python\\python310\\lib\\site-packages)\n",
      "WARNING: Ignoring invalid distribution -rotobuf (c:\\users\\vicky\\appdata\\local\\programs\\python\\python310\\lib\\site-packages)\n",
      "WARNING: Ignoring invalid distribution -rotobuf (c:\\users\\vicky\\appdata\\local\\programs\\python\\python310\\lib\\site-packages)\n",
      "WARNING: Ignoring invalid distribution -rotobuf (c:\\users\\vicky\\appdata\\local\\programs\\python\\python310\\lib\\site-packages)\n",
      "\n",
      "[notice] A new release of pip available: 22.3.1 -> 23.0.1\n",
      "[notice] To update, run: python.exe -m pip install --upgrade pip\n"
     ]
    }
   ],
   "source": [
    "!pip install python-binance pandas mplfinance\n"
   ]
  },
  {
   "cell_type": "code",
   "execution_count": 2,
   "metadata": {},
   "outputs": [],
   "source": [
    "apikey = 'q1NNclQ1nnRUdFESgVbEvw4frAFmyfXghvetjn5w4eEApoLxtHUuVifjVh1UjmZx'\n",
    "secret = 'SAZnqbKTssXvEmEesko8Mac50ESlksCDNVqcvhgeNr8PIF0GYIqHxptnsJUe7wwC'"
   ]
  },
  {
   "cell_type": "markdown",
   "metadata": {},
   "source": [
    "Authenticate"
   ]
  },
  {
   "cell_type": "code",
   "execution_count": 6,
   "metadata": {},
   "outputs": [],
   "source": [
    "from binance import Client, ThreadedWebsocketManager, ThreadedDepthCacheManager\n",
    "import pandas as pd"
   ]
  },
  {
   "cell_type": "code",
   "execution_count": null,
   "metadata": {},
   "outputs": [],
   "source": [
    "client = Client(apikey, secret)"
   ]
  },
  {
   "cell_type": "code",
   "execution_count": null,
   "metadata": {},
   "outputs": [],
   "source": []
  }
 ],
 "metadata": {
  "kernelspec": {
   "display_name": "Python 3 (ipykernel)",
   "language": "python",
   "name": "python3"
  },
  "language_info": {
   "codemirror_mode": {
    "name": "ipython",
    "version": 3
   },
   "file_extension": ".py",
   "mimetype": "text/x-python",
   "name": "python",
   "nbconvert_exporter": "python",
   "pygments_lexer": "ipython3",
   "version": "3.10.4"
  }
 },
 "nbformat": 4,
 "nbformat_minor": 2
}
